{
 "cells": [
  {
   "cell_type": "code",
   "execution_count": 89,
   "metadata": {},
   "outputs": [],
   "source": [
    "import numpy as np\n",
    "import matplotlib.pyplot as plt\n",
    "import cv2\n",
    "import os\n",
    "\n",
    "%matplotlib inline"
   ]
  },
  {
   "cell_type": "markdown",
   "metadata": {},
   "source": [
    "## Load DataSets"
   ]
  },
  {
   "cell_type": "code",
   "execution_count": 90,
   "metadata": {},
   "outputs": [],
   "source": [
    "train_images_dir = 'day_night_images/training'\n",
    "test_images_dir = 'day_night_images/test'"
   ]
  },
  {
   "cell_type": "code",
   "execution_count": 91,
   "metadata": {},
   "outputs": [],
   "source": [
    "def load_data(directory):\n",
    "    file_path = os.listdir(directory)\n",
    "    IMAGE_LIST=[]\n",
    "    for each in file_path:\n",
    "        if each == 'day':\n",
    "            label=0\n",
    "        else: label=1\n",
    "        \n",
    "        image_path = os.path.join(directory,each)\n",
    "        \n",
    "        for file in os.listdir(image_path):\n",
    "            image_location = os.path.join(image_path,file)\n",
    "            img = cv2.imread(image_location)\n",
    "            img = cv2.cvtColor(img,cv2.COLOR_BGR2RGB)\n",
    "            IMAGE_LIST.append([img,label])\n",
    "            \n",
    "    return IMAGE_LIST\n",
    "\n"
   ]
  },
  {
   "cell_type": "code",
   "execution_count": null,
   "metadata": {},
   "outputs": [],
   "source": [
    "train_image_list = load_data(train_images_dir)\n",
    "test_image_list = load_data(test_images_dir)\n",
    "\n",
    "print('Total Images is train set: ',len(train_image_list))\n",
    "print('Total Images is test set: ',len(test_image_list))"
   ]
  },
  {
   "cell_type": "markdown",
   "metadata": {},
   "source": [
    "* Now we have 2 separate lists for train and test data.\n",
    "* Each train and test list consists of sub-lists storing image as numpy array at 0 index and corresponding label at 1st index. "
   ]
  },
  {
   "cell_type": "code",
   "execution_count": null,
   "metadata": {},
   "outputs": [],
   "source": [
    "train_image_list[0][0]  #image as numpy array\n",
    "train_image_list[0][1]  #image label"
   ]
  },
  {
   "cell_type": "code",
   "execution_count": null,
   "metadata": {},
   "outputs": [],
   "source": [
    "day_image = train_image_list[12][0]\n",
    "day_label = train_image_list[12][1]\n",
    "\n",
    "night_image = train_image_list[130][0]\n",
    "night_label = train_image_list[130][1]\n",
    "\n",
    "fig,(ax1,ax2) = plt.subplots(1,2,figsize=(20,10))\n",
    "ax1.matshow(day_image)\n",
    "ax1.set_title(day_label)\n",
    "ax2.matshow(night_image)\n",
    "ax2.set_title(night_label)"
   ]
  },
  {
   "cell_type": "markdown",
   "metadata": {},
   "source": [
    "Since the images are of different sizes therefore we need to standardize our data by making them of same size."
   ]
  },
  {
   "cell_type": "markdown",
   "metadata": {},
   "source": [
    "## Standardizing Data"
   ]
  },
  {
   "cell_type": "code",
   "execution_count": null,
   "metadata": {},
   "outputs": [],
   "source": [
    "for data in train_image_list:\n",
    "    \n",
    "    img = data[0]\n",
    "    data[0] = cv2.resize(img,(1000,500))\n",
    "    \n",
    "for data in test_image_list:\n",
    "    \n",
    "    img = data[0]\n",
    "    data[0] = cv2.resize(img,(1000,550))"
   ]
  },
  {
   "cell_type": "markdown",
   "metadata": {},
   "source": [
    "Plotting images after resizing"
   ]
  },
  {
   "cell_type": "code",
   "execution_count": null,
   "metadata": {},
   "outputs": [],
   "source": [
    "day_image = train_image_list[12][0]\n",
    "day_label = train_image_list[12][1]\n",
    "\n",
    "night_image = train_image_list[130][0]\n",
    "night_label = train_image_list[130][1]\n",
    "\n",
    "fig,(ax1,ax2) = plt.subplots(1,2,figsize=(20,10))\n",
    "ax1.matshow(day_image)\n",
    "ax1.set_title(day_label)\n",
    "ax2.matshow(night_image)\n",
    "ax2.set_title(night_label)"
   ]
  },
  {
   "cell_type": "markdown",
   "metadata": {},
   "source": [
    "# Calculate Average Brightness\n",
    "\n"
   ]
  },
  {
   "cell_type": "code",
   "execution_count": null,
   "metadata": {},
   "outputs": [],
   "source": [
    "def avg_brightness(rgb_img):\n",
    "    \n",
    "    img_hsv = cv2.cvtColor(rgb_img,cv2.COLOR_RGB2HSV)\n",
    "    \n",
    "    total_brightness = np.sum(img_hsv[:,:,2])\n",
    "    \n",
    "    img_area = 1000*550\n",
    "    \n",
    "    avg_brightness = (total_brightness/img_area).round(2)\n",
    "    \n",
    "    return avg_brightness\n",
    "    "
   ]
  },
  {
   "cell_type": "markdown",
   "metadata": {},
   "source": [
    "# Our Classifier"
   ]
  },
  {
   "cell_type": "code",
   "execution_count": null,
   "metadata": {},
   "outputs": [],
   "source": [
    "def predict_label(rgb_image):\n",
    "    \n",
    "    avg = avg_brightness(rgb_image)\n",
    "    \n",
    "    predicted_label= 0\n",
    "    threshold=105\n",
    "    \n",
    "    if avg < threshold:\n",
    "        predicted_label = 1\n",
    "        \n",
    "    return predicted_label\n",
    "    "
   ]
  },
  {
   "cell_type": "markdown",
   "metadata": {},
   "source": [
    "# Accuracy on train data"
   ]
  },
  {
   "cell_type": "code",
   "execution_count": null,
   "metadata": {},
   "outputs": [],
   "source": [
    "pred=[]\n",
    "actual=[]\n",
    "for data in train_image_list:\n",
    "    pred.append(predict_label(data[0]))\n",
    "    actual.append(data[1])\n"
   ]
  },
  {
   "cell_type": "code",
   "execution_count": null,
   "metadata": {},
   "outputs": [],
   "source": [
    "from sklearn.metrics import confusion_matrix, accuracy_score\n",
    "display(accuracy_score(actual,pred)*100)\n",
    "confusion_matrix(actual,pred)"
   ]
  },
  {
   "cell_type": "markdown",
   "metadata": {},
   "source": [
    "# Accuracy on test data"
   ]
  },
  {
   "cell_type": "code",
   "execution_count": null,
   "metadata": {},
   "outputs": [],
   "source": [
    "pred=[]\n",
    "actual=[]\n",
    "for data in test_image_list:\n",
    "    pred.append(predict_label(data[0]))\n",
    "    actual.append(data[1])"
   ]
  },
  {
   "cell_type": "code",
   "execution_count": null,
   "metadata": {},
   "outputs": [],
   "source": [
    "display(accuracy_score(actual,pred)*100)\n",
    "confusion_matrix(actual,pred)"
   ]
  },
  {
   "cell_type": "code",
   "execution_count": null,
   "metadata": {},
   "outputs": [],
   "source": []
  }
 ],
 "metadata": {
  "kernelspec": {
   "display_name": "Python 3",
   "language": "python",
   "name": "python3"
  },
  "language_info": {
   "codemirror_mode": {
    "name": "ipython",
    "version": 3
   },
   "file_extension": ".py",
   "mimetype": "text/x-python",
   "name": "python",
   "nbconvert_exporter": "python",
   "pygments_lexer": "ipython3",
   "version": "3.7.4"
  }
 },
 "nbformat": 4,
 "nbformat_minor": 4
}
